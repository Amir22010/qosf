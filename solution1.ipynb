{
 "cells": [
  {
   "cell_type": "code",
   "execution_count": 1,
   "id": "b702e20b-2874-4847-bd8c-0a71706bd175",
   "metadata": {},
   "outputs": [
    {
     "name": "stderr",
     "output_type": "stream",
     "text": [
      "D:\\miniconda\\lib\\site-packages\\qiskit\\__init__.py:67: DeprecationWarning: Using Qiskit with Python 3.6 is deprecated as of the 0.17.0 release. Support for running Qiskit with Python 3.6 will be removed in a future release.\n",
      "  \"future release.\", DeprecationWarning)\n"
     ]
    }
   ],
   "source": [
    "#initialization\n",
    "import matplotlib.pyplot as plt\n",
    "import numpy as np\n",
    "# importing Qiskit\n",
    "from qiskit import IBMQ, Aer, assemble, transpile\n",
    "from qiskit import QuantumCircuit, ClassicalRegister, QuantumRegister\n",
    "from qiskit.providers.ibmq import least_busy\n",
    "# import basic plot tools\n",
    "from qiskit.visualization import plot_histogram"
   ]
  },
  {
   "cell_type": "code",
   "execution_count": 76,
   "id": "0e2c7aed-53f5-430c-9900-819d1c5f4a55",
   "metadata": {},
   "outputs": [],
   "source": [
    "n = 4\n",
    "grover_circuit = QuantumCircuit(n)"
   ]
  },
  {
   "cell_type": "code",
   "execution_count": 77,
   "id": "ef0573d8-9d8b-479f-bdb3-93955f033bd2",
   "metadata": {},
   "outputs": [],
   "source": [
    "def initialize_s(qc, qubits):\n",
    "    \"\"\"Apply a H-gate to 'qubits' in qc\"\"\"\n",
    "    for q in qubits:\n",
    "        qc.h(q)\n",
    "    return qc"
   ]
  },
  {
   "cell_type": "code",
   "execution_count": 78,
   "id": "2452b1bd-1816-4df9-a6f1-f010b3933d82",
   "metadata": {},
   "outputs": [
    {
     "data": {
      "text/html": [
       "<pre style=\"word-wrap: normal;white-space: pre;background: #fff0;line-height: 1.1;font-family: &quot;Courier New&quot;,Courier,monospace\">     ┌───┐\n",
       "q_0: ┤ H ├\n",
       "     ├───┤\n",
       "q_1: ┤ H ├\n",
       "     ├───┤\n",
       "q_2: ┤ H ├\n",
       "     ├───┤\n",
       "q_3: ┤ H ├\n",
       "     └───┘</pre>"
      ],
      "text/plain": [
       "     ┌───┐\n",
       "q_0: ┤ H ├\n",
       "     ├───┤\n",
       "q_1: ┤ H ├\n",
       "     ├───┤\n",
       "q_2: ┤ H ├\n",
       "     ├───┤\n",
       "q_3: ┤ H ├\n",
       "     └───┘"
      ]
     },
     "execution_count": 78,
     "metadata": {},
     "output_type": "execute_result"
    }
   ],
   "source": [
    "grover_circuit = initialize_s(grover_circuit, [0,1,2,3])\n",
    "grover_circuit.draw()"
   ]
  },
  {
   "cell_type": "code",
   "execution_count": 79,
   "id": "1c6239d3-898a-4774-a669-13656cc7d23e",
   "metadata": {},
   "outputs": [],
   "source": [
    "#create a phase oracle that will mark states  |w> = |0101> and |w> = |1010>\n",
    "grover_circuit.cz(0,2) # Oracle\n",
    "grover_circuit.cz(1,3) # Oracle\n",
    "oracle_ex3 = grover_circuit.to_gate()\n",
    "oracle_ex3.name = \"U$_\\omega$\""
   ]
  },
  {
   "cell_type": "code",
   "execution_count": 80,
   "id": "adcbfeab-a8ae-4483-99a0-041baf52a61b",
   "metadata": {},
   "outputs": [],
   "source": []
  },
  {
   "cell_type": "code",
   "execution_count": 81,
   "id": "0ff48476-2155-4a6c-bb2f-582f523661e2",
   "metadata": {},
   "outputs": [
    {
     "ename": "AttributeError",
     "evalue": "'Grover' object has no attribute 'run'",
     "output_type": "error",
     "traceback": [
      "\u001b[1;31m---------------------------------------------------------------------------\u001b[0m",
      "\u001b[1;31mAttributeError\u001b[0m                            Traceback (most recent call last)",
      "\u001b[1;32m<ipython-input-81-67c68fff0637>\u001b[0m in \u001b[0;36m<module>\u001b[1;34m\u001b[0m\n\u001b[0;32m      2\u001b[0m \u001b[0mbackend\u001b[0m \u001b[1;33m=\u001b[0m \u001b[0mAer\u001b[0m\u001b[1;33m.\u001b[0m\u001b[0mget_backend\u001b[0m\u001b[1;33m(\u001b[0m\u001b[1;34m'qasm_simulator'\u001b[0m\u001b[1;33m)\u001b[0m\u001b[1;33m\u001b[0m\u001b[1;33m\u001b[0m\u001b[0m\n\u001b[0;32m      3\u001b[0m \u001b[0mquantum_instance\u001b[0m \u001b[1;33m=\u001b[0m \u001b[0mQuantumInstance\u001b[0m\u001b[1;33m(\u001b[0m\u001b[0mbackend\u001b[0m\u001b[1;33m,\u001b[0m \u001b[0mshots\u001b[0m\u001b[1;33m=\u001b[0m\u001b[1;36m1024\u001b[0m\u001b[1;33m)\u001b[0m\u001b[1;33m\u001b[0m\u001b[1;33m\u001b[0m\u001b[0m\n\u001b[1;32m----> 4\u001b[1;33m \u001b[0mresult\u001b[0m \u001b[1;33m=\u001b[0m \u001b[0mgrover\u001b[0m\u001b[1;33m.\u001b[0m\u001b[0mrun\u001b[0m\u001b[1;33m(\u001b[0m\u001b[0mquantum_instance\u001b[0m\u001b[1;33m)\u001b[0m\u001b[1;33m\u001b[0m\u001b[1;33m\u001b[0m\u001b[0m\n\u001b[0m\u001b[0;32m      5\u001b[0m \u001b[0mprint\u001b[0m\u001b[1;33m(\u001b[0m\u001b[0mresult\u001b[0m\u001b[1;33m.\u001b[0m\u001b[0massignment\u001b[0m\u001b[1;33m)\u001b[0m\u001b[1;33m\u001b[0m\u001b[1;33m\u001b[0m\u001b[0m\n",
      "\u001b[1;31mAttributeError\u001b[0m: 'Grover' object has no attribute 'run'"
     ]
    }
   ],
   "source": [
    "from qiskit import Aer\n",
    "backend = Aer.get_backend('qasm_simulator')\n",
    "quantum_instance = QuantumInstance(backend, shots=1024)\n",
    "result = grover.run(quantum_instance)\n",
    "print(result.assignment)"
   ]
  },
  {
   "cell_type": "code",
   "execution_count": 53,
   "id": "e49feac0-a06c-4d52-953f-72e38504c777",
   "metadata": {},
   "outputs": [
    {
     "ename": "AttributeError",
     "evalue": "'Gate' object has no attribute 'num_ancillas'",
     "output_type": "error",
     "traceback": [
      "\u001b[1;31m---------------------------------------------------------------------------\u001b[0m",
      "\u001b[1;31mAttributeError\u001b[0m                            Traceback (most recent call last)",
      "\u001b[1;32m<ipython-input-53-6a40055552ef>\u001b[0m in \u001b[0;36m<module>\u001b[1;34m\u001b[0m\n\u001b[0;32m      1\u001b[0m \u001b[1;32mfrom\u001b[0m \u001b[0mqiskit\u001b[0m\u001b[1;33m.\u001b[0m\u001b[0malgorithms\u001b[0m \u001b[1;32mimport\u001b[0m \u001b[0mAmplificationProblem\u001b[0m\u001b[1;33m\u001b[0m\u001b[1;33m\u001b[0m\u001b[0m\n\u001b[0;32m      2\u001b[0m \u001b[0mproblem\u001b[0m \u001b[1;33m=\u001b[0m \u001b[0mAmplificationProblem\u001b[0m\u001b[1;33m(\u001b[0m\u001b[0moracle_ex3\u001b[0m\u001b[1;33m,\u001b[0m \u001b[0mis_good_state\u001b[0m\u001b[1;33m=\u001b[0m\u001b[1;33m[\u001b[0m\u001b[1;34m'0101'\u001b[0m\u001b[1;33m,\u001b[0m\u001b[1;34m'1010'\u001b[0m\u001b[1;33m]\u001b[0m\u001b[1;33m)\u001b[0m\u001b[1;33m\u001b[0m\u001b[1;33m\u001b[0m\u001b[0m\n\u001b[1;32m----> 3\u001b[1;33m \u001b[0mproblem\u001b[0m\u001b[1;33m.\u001b[0m\u001b[0mgrover_operator\u001b[0m\u001b[1;33m.\u001b[0m\u001b[0mstate_preparation\u001b[0m\u001b[1;33m.\u001b[0m\u001b[0mdraw\u001b[0m\u001b[1;33m(\u001b[0m\u001b[1;33m)\u001b[0m\u001b[1;33m\u001b[0m\u001b[1;33m\u001b[0m\u001b[0m\n\u001b[0m",
      "\u001b[1;32mD:\\miniconda\\lib\\site-packages\\qiskit\\algorithms\\amplitude_amplifiers\\amplification_problem.py\u001b[0m in \u001b[0;36mgrover_operator\u001b[1;34m(self)\u001b[0m\n\u001b[0;32m    187\u001b[0m         \"\"\"\n\u001b[0;32m    188\u001b[0m         \u001b[1;32mif\u001b[0m \u001b[0mself\u001b[0m\u001b[1;33m.\u001b[0m\u001b[0m_grover_operator\u001b[0m \u001b[1;32mis\u001b[0m \u001b[1;32mNone\u001b[0m\u001b[1;33m:\u001b[0m\u001b[1;33m\u001b[0m\u001b[1;33m\u001b[0m\u001b[0m\n\u001b[1;32m--> 189\u001b[1;33m             \u001b[1;32mreturn\u001b[0m \u001b[0mGroverOperator\u001b[0m\u001b[1;33m(\u001b[0m\u001b[0mself\u001b[0m\u001b[1;33m.\u001b[0m\u001b[0moracle\u001b[0m\u001b[1;33m,\u001b[0m \u001b[0mself\u001b[0m\u001b[1;33m.\u001b[0m\u001b[0mstate_preparation\u001b[0m\u001b[1;33m)\u001b[0m\u001b[1;33m\u001b[0m\u001b[1;33m\u001b[0m\u001b[0m\n\u001b[0m\u001b[0;32m    190\u001b[0m         \u001b[1;32mreturn\u001b[0m \u001b[0mself\u001b[0m\u001b[1;33m.\u001b[0m\u001b[0m_grover_operator\u001b[0m\u001b[1;33m\u001b[0m\u001b[1;33m\u001b[0m\u001b[0m\n\u001b[0;32m    191\u001b[0m \u001b[1;33m\u001b[0m\u001b[0m\n",
      "\u001b[1;32mD:\\miniconda\\lib\\site-packages\\qiskit\\circuit\\library\\grover_operator.py\u001b[0m in \u001b[0;36m__init__\u001b[1;34m(self, oracle, state_preparation, zero_reflection, reflection_qubits, insert_barriers, mcx_mode, name)\u001b[0m\n\u001b[0;32m    197\u001b[0m \u001b[1;33m\u001b[0m\u001b[0m\n\u001b[0;32m    198\u001b[0m         \u001b[1;31m# build circuit\u001b[0m\u001b[1;33m\u001b[0m\u001b[1;33m\u001b[0m\u001b[1;33m\u001b[0m\u001b[0m\n\u001b[1;32m--> 199\u001b[1;33m         \u001b[0mself\u001b[0m\u001b[1;33m.\u001b[0m\u001b[0m_build\u001b[0m\u001b[1;33m(\u001b[0m\u001b[1;33m)\u001b[0m\u001b[1;33m\u001b[0m\u001b[1;33m\u001b[0m\u001b[0m\n\u001b[0m\u001b[0;32m    200\u001b[0m \u001b[1;33m\u001b[0m\u001b[0m\n\u001b[0;32m    201\u001b[0m     \u001b[1;33m@\u001b[0m\u001b[0mproperty\u001b[0m\u001b[1;33m\u001b[0m\u001b[1;33m\u001b[0m\u001b[0m\n",
      "\u001b[1;32mD:\\miniconda\\lib\\site-packages\\qiskit\\circuit\\library\\grover_operator.py\u001b[0m in \u001b[0;36m_build\u001b[1;34m(self)\u001b[0m\n\u001b[0;32m    235\u001b[0m \u001b[1;33m\u001b[0m\u001b[0m\n\u001b[0;32m    236\u001b[0m     \u001b[1;32mdef\u001b[0m \u001b[0m_build\u001b[0m\u001b[1;33m(\u001b[0m\u001b[0mself\u001b[0m\u001b[1;33m)\u001b[0m\u001b[1;33m:\u001b[0m\u001b[1;33m\u001b[0m\u001b[1;33m\u001b[0m\u001b[0m\n\u001b[1;32m--> 237\u001b[1;33m         \u001b[0mnum_state_qubits\u001b[0m \u001b[1;33m=\u001b[0m \u001b[0mself\u001b[0m\u001b[1;33m.\u001b[0m\u001b[0moracle\u001b[0m\u001b[1;33m.\u001b[0m\u001b[0mnum_qubits\u001b[0m \u001b[1;33m-\u001b[0m \u001b[0mself\u001b[0m\u001b[1;33m.\u001b[0m\u001b[0moracle\u001b[0m\u001b[1;33m.\u001b[0m\u001b[0mnum_ancillas\u001b[0m\u001b[1;33m\u001b[0m\u001b[1;33m\u001b[0m\u001b[0m\n\u001b[0m\u001b[0;32m    238\u001b[0m         \u001b[0mself\u001b[0m\u001b[1;33m.\u001b[0m\u001b[0madd_register\u001b[0m\u001b[1;33m(\u001b[0m\u001b[0mQuantumRegister\u001b[0m\u001b[1;33m(\u001b[0m\u001b[0mnum_state_qubits\u001b[0m\u001b[1;33m,\u001b[0m \u001b[0mname\u001b[0m\u001b[1;33m=\u001b[0m\u001b[1;34m'state'\u001b[0m\u001b[1;33m)\u001b[0m\u001b[1;33m)\u001b[0m\u001b[1;33m\u001b[0m\u001b[1;33m\u001b[0m\u001b[0m\n\u001b[0;32m    239\u001b[0m         num_ancillas = numpy.max([self.oracle.num_ancillas,\n",
      "\u001b[1;31mAttributeError\u001b[0m: 'Gate' object has no attribute 'num_ancillas'"
     ]
    }
   ],
   "source": [
    "from qiskit.algorithms import AmplificationProblem\n",
    "problem = AmplificationProblem(oracle_ex3, is_good_state=['0101','1010'])\n",
    "problem.grover_operator.state_preparation.draw()"
   ]
  },
  {
   "cell_type": "code",
   "execution_count": 43,
   "id": "42107852-29f4-407a-b832-78fe55cd410a",
   "metadata": {},
   "outputs": [],
   "source": [
    "def diffuser(nqubits):\n",
    "    qc = QuantumCircuit(nqubits)\n",
    "    # Apply transformation |s> -> |00..0> (H-gates)\n",
    "    for qubit in range(nqubits):\n",
    "        qc.h(qubit)\n",
    "    # Apply transformation |00..0> -> |11..1> (X-gates)\n",
    "    for qubit in range(nqubits):\n",
    "        qc.x(qubit)\n",
    "    # Do multi-controlled-Z gate\n",
    "    qc.h(nqubits-1)\n",
    "    qc.mct(list(range(nqubits-1)), nqubits-1)  # multi-controlled-toffoli\n",
    "    qc.h(nqubits-1)\n",
    "    # Apply transformation |11..1> -> |00..0>\n",
    "    for qubit in range(nqubits):\n",
    "        qc.x(qubit)\n",
    "    # Apply transformation |00..0> -> |s>\n",
    "    for qubit in range(nqubits):\n",
    "        qc.h(qubit)\n",
    "    # We will return the diffuser as a gate\n",
    "    U_s = qc.to_gate()\n",
    "    U_s.name = \"U$_s$\"\n",
    "    return U_s"
   ]
  },
  {
   "cell_type": "code",
   "execution_count": 44,
   "id": "3a89fce8-29cb-4302-9bb3-11680b2fe939",
   "metadata": {},
   "outputs": [
    {
     "data": {
      "text/html": [
       "<pre style=\"word-wrap: normal;white-space: pre;background: #fff0;line-height: 1.1;font-family: &quot;Courier New&quot;,Courier,monospace\">        ┌───┐┌─────────────┐┌────────┐ ░ ┌─┐         \n",
       "   q_0: ┤ H ├┤0            ├┤0       ├─░─┤M├─────────\n",
       "        ├───┤│             ││        │ ░ └╥┘┌─┐      \n",
       "   q_1: ┤ H ├┤1            ├┤1       ├─░──╫─┤M├──────\n",
       "        ├───┤│  U$_\\omega$ ││  U$_s$ │ ░  ║ └╥┘┌─┐   \n",
       "   q_2: ┤ H ├┤2            ├┤2       ├─░──╫──╫─┤M├───\n",
       "        ├───┤│             ││        │ ░  ║  ║ └╥┘┌─┐\n",
       "   q_3: ┤ H ├┤3            ├┤3       ├─░──╫──╫──╫─┤M├\n",
       "        └───┘└─────────────┘└────────┘ ░  ║  ║  ║ └╥┘\n",
       "meas: 4/══════════════════════════════════╩══╩══╩══╩═\n",
       "                                          0  1  2  3 </pre>"
      ],
      "text/plain": [
       "        ┌───┐┌─────────────┐┌────────┐ ░ ┌─┐         \n",
       "   q_0: ┤ H ├┤0            ├┤0       ├─░─┤M├─────────\n",
       "        ├───┤│             ││        │ ░ └╥┘┌─┐      \n",
       "   q_1: ┤ H ├┤1            ├┤1       ├─░──╫─┤M├──────\n",
       "        ├───┤│  U$_\\omega$ ││  U$_s$ │ ░  ║ └╥┘┌─┐   \n",
       "   q_2: ┤ H ├┤2            ├┤2       ├─░──╫──╫─┤M├───\n",
       "        ├───┤│             ││        │ ░  ║  ║ └╥┘┌─┐\n",
       "   q_3: ┤ H ├┤3            ├┤3       ├─░──╫──╫──╫─┤M├\n",
       "        └───┘└─────────────┘└────────┘ ░  ║  ║  ║ └╥┘\n",
       "meas: 4/══════════════════════════════════╩══╩══╩══╩═\n",
       "                                          0  1  2  3 "
      ]
     },
     "execution_count": 44,
     "metadata": {},
     "output_type": "execute_result"
    }
   ],
   "source": [
    "n = 4\n",
    "grover_circuit = QuantumCircuit(n)\n",
    "grover_circuit = initialize_s(grover_circuit, [0,1,2,3])\n",
    "grover_circuit.append(oracle_ex3, [0,1,2,3])\n",
    "grover_circuit.append(diffuser(n), [0,1,2,3])\n",
    "grover_circuit.measure_all()\n",
    "grover_circuit.draw()"
   ]
  },
  {
   "cell_type": "code",
   "execution_count": 47,
   "id": "0026950b-86d7-48af-a458-b94ef58ce55d",
   "metadata": {},
   "outputs": [
    {
     "data": {
      "image/png": "[encoded data removed]",
      "text/plain": [
       "<Figure size 504x360 with 1 Axes>"
      ]
     },
     "execution_count": 47,
     "metadata": {},
     "output_type": "execute_result"
    }
   ],
   "source": [
    "aer_sim = Aer.get_backend('aer_simulator')\n",
    "transpiled_grover_circuit = transpile(grover_circuit, aer_sim)\n",
    "qobj = assemble(transpiled_grover_circuit)\n",
    "results = aer_sim.run(qobj).result()\n",
    "counts = results.get_counts()\n",
    "plot_histogram(counts)"
   ]
  },
  {
   "cell_type": "code",
   "execution_count": 90,
   "id": "e122a8c2-d4f8-448e-9e29-15b4cd686c77",
   "metadata": {},
   "outputs": [
    {
     "data": {
      "image/png": "[encoded data removed]",
      "text/plain": [
       "<Figure size 667.914x264.88 with 1 Axes>"
      ]
     },
     "execution_count": 90,
     "metadata": {},
     "output_type": "execute_result"
    }
   ],
   "source": [
    "from qiskit import QuantumCircuit\n",
    "from qiskit.algorithms import AmplificationProblem\n",
    "\n",
    "# the state we desire to find is '11'\n",
    "good_state = ['0101','1010']\n",
    "\n",
    "# specify the oracle that marks the state '11' as a good solution\n",
    "oracle = QuantumCircuit(4)\n",
    "oracle.cz(0,2) # Oracle\n",
    "oracle.cz(1,3) # Oracle\n",
    "\n",
    "# define Grover's algorithm\n",
    "problem = AmplificationProblem(oracle, is_good_state=good_state)\n",
    "\n",
    "# now we can have a look at the Grover operator that is used in running the algorithm\n",
    "problem.grover_operator.draw(output='mpl')"
   ]
  },
  {
   "cell_type": "code",
   "execution_count": 104,
   "id": "12be0e6b-a8d5-4ae8-b83b-2732ecc46780",
   "metadata": {},
   "outputs": [
    {
     "name": "stdout",
     "output_type": "stream",
     "text": [
      "Result type: <class 'qiskit.algorithms.amplitude_amplifiers.grover.GroverResult'>\n",
      "\n",
      "Success!\n",
      "Top measurement: 1010\n"
     ]
    }
   ],
   "source": [
    "from qiskit import Aer\n",
    "from qiskit.utils import QuantumInstance\n",
    "from qiskit.algorithms import Grover\n",
    "\n",
    "aer_simulator = Aer.get_backend('aer_simulator')\n",
    "grover = Grover(iterations=3,quantum_instance=aer_simulator)\n",
    "result = grover.amplify(problem)\n",
    "print('Result type:', type(result))\n",
    "print()\n",
    "print('Success!' if result.oracle_evaluation else 'Failure!')\n",
    "print('Top measurement:', result.top_measurement)"
   ]
  },
  {
   "cell_type": "code",
   "execution_count": 105,
   "id": "5f2f0921-17ff-4f85-b850-6b09460fd516",
   "metadata": {},
   "outputs": [],
   "source": [
    "import pylab\n",
    "import numpy as np\n",
    "from qiskit import BasicAer\n",
    "from qiskit.tools.visualization import plot_histogram\n",
    "from qiskit.aqua import QuantumInstance\n",
    "from qiskit.aqua.algorithms import Grover\n",
    "from qiskit.aqua.components.oracles import LogicalExpressionOracle, TruthTableOracle"
   ]
  },
  {
   "cell_type": "code",
   "execution_count": 106,
   "id": "95650566-49e1-43be-b52f-6b8a477e339c",
   "metadata": {},
   "outputs": [],
   "source": [
    "truthtable = '0000010000100000'"
   ]
  },
  {
   "cell_type": "code",
   "execution_count": 107,
   "id": "211987b0-b4c7-4fb7-9221-f9bfc8432052",
   "metadata": {},
   "outputs": [
    {
     "name": "stderr",
     "output_type": "stream",
     "text": [
      "D:\\miniconda\\lib\\site-packages\\qiskit\\aqua\\algorithms\\amplitude_amplifiers\\grover.py:216: DeprecationWarning: The package qiskit.aqua.algorithms.amplitude_amplifiers is deprecated. It was moved/refactored to qiskit.algorithms.amplitude_amplifiers (pip install qiskit-terra). For more information see <https://github.com/Qiskit/qiskit-aqua/blob/master/README.md#migration-guide>\n",
      "  'qiskit.algorithms.amplitude_amplifiers', 'qiskit-terra')\n",
      "D:\\miniconda\\lib\\site-packages\\qiskit\\aqua\\quantum_instance.py:137: DeprecationWarning: The class qiskit.aqua.QuantumInstance is deprecated. It was moved/refactored to qiskit.utils.QuantumInstance (pip install qiskit-terra). For more information see <https://github.com/Qiskit/qiskit-aqua/blob/master/README.md#migration-guide>\n",
      "  'qiskit-terra')\n"
     ]
    },
    {
     "data": {
      "image/png": "[encoded data removed]",
      "text/plain": [
       "<Figure size 504x360 with 1 Axes>"
      ]
     },
     "execution_count": 107,
     "metadata": {},
     "output_type": "execute_result"
    }
   ],
   "source": [
    "oracle = TruthTableOracle(truthtable)\n",
    "grover = Grover(oracle)\n",
    "result = grover.run(QuantumInstance(BasicAer.get_backend('qasm_simulator'), shots=1024))\n",
    "plot_histogram(result.measurement)"
   ]
  },
  {
   "cell_type": "code",
   "execution_count": null,
   "id": "fc2f1fcb-b8f7-4c63-982f-faaea33a90e5",
   "metadata": {},
   "outputs": [],
   "source": []
  }
 ],
 "metadata": {
  "kernelspec": {
   "display_name": "Python 3",
   "language": "python",
   "name": "python3"
  },
  "language_info": {
   "codemirror_mode": {
    "name": "ipython",
    "version": 3
   },
   "file_extension": ".py",
   "mimetype": "text/x-python",
   "name": "python",
   "nbconvert_exporter": "python",
   "pygments_lexer": "ipython3",
   "version": "3.6.10"
  }
 },
 "nbformat": 4,
 "nbformat_minor": 5
}
